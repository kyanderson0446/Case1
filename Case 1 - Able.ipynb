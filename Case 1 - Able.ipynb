{
 "cells": [
  {
   "metadata": {},
   "cell_type": "markdown",
   "source": [
    "# Case 1 - Able\n",
    "* Kyle Anderson U0985830"
   ],
   "id": "87828bae31d149f1"
  },
  {
   "metadata": {},
   "cell_type": "markdown",
   "source": [
    "# Table of Contents\n",
    "\n",
    "1. [Introduction and Understanding of the Case](#Introduction-and-Understanding-of-the-Case)\n",
    "2. [Data Import](#Data-Import)\n",
    "3. [Question 1](#Question-1)\n",
    "4. [Question 2](#Question-2)\n",
    "5. [Question 3](#Question-3)\n",
    "6. [Question 4](#Question-4)\n",
    "7. [Question 5](#Question-5)\n",
    "8. [Question 6](#Question-6)\n",
    "9. [Question 7](#Question-7)"
   ],
   "id": "764bc13d8e051e64"
  },
  {
   "metadata": {},
   "cell_type": "markdown",
   "source": "## Introduction and Understanding of the Case",
   "id": "807e6404c3517b5a"
  },
  {
   "metadata": {},
   "cell_type": "markdown",
   "source": [
    "\n",
    "### Problem\n",
    "* Able's vendors want to understand the impact of when a price drops, will it boost sales enough to offset lower margins. The focus is kid's toy sellers during the holiday season. The goal is to help vendors make informed decisions about their sales strategies by understanding the true effect of price changes on customer behavior.\n",
    "\n",
    "### Testing and Results\n",
    "* Is there a benefit to selling at a lower cost which is hypothesized to drive more purchases thus higher revenue than the regular price?\n",
    "* What is the dollar impact of lowering prices on units sold?"
   ],
   "id": "b4e654be75fc6e96"
  },
  {
   "metadata": {},
   "cell_type": "markdown",
   "source": "### Import Libraries",
   "id": "83554d1b7700ff6"
  },
  {
   "cell_type": "code",
   "id": "initial_id",
   "metadata": {
    "collapsed": true,
    "ExecuteTime": {
     "end_time": "2024-08-26T05:55:05.308869Z",
     "start_time": "2024-08-26T05:55:05.306180Z"
    }
   },
   "source": [
    "import pandas as pd\n",
    "import numpy as np\n",
    "import matplotlib.pyplot as plt"
   ],
   "outputs": [],
   "execution_count": 91
  },
  {
   "metadata": {},
   "cell_type": "markdown",
   "source": [
    "### Available Features\n",
    "* store (numeric): the store’s unique identifier (ID).\n",
    "* weeks_to_xmas (numeric): a count of the weeks to xmas.\n",
    "* avg_week_sale (numeric): the size of each business in terms of average products sold per week during that year.\n",
    "#### Target of IS on sale (1) or NOT on sale (0)\n",
    "* is_on_sale (boolean): indicator for whether the business had a sale during a the week.\n",
    "#### Volume sold\n",
    "* weekly_amount_sold (numeric): the average weekly sales of that store during the week."
   ],
   "id": "ee55ae8a48b20565"
  },
  {
   "metadata": {},
   "cell_type": "markdown",
   "source": "## Data Import",
   "id": "66dd5a755babd8e"
  },
  {
   "metadata": {
    "ExecuteTime": {
     "end_time": "2024-08-26T05:55:05.605353Z",
     "start_time": "2024-08-26T05:55:05.332193Z"
    }
   },
   "cell_type": "code",
   "source": [
    "# Observed Toy Sales\n",
    "toys_git = \"https://raw.githubusercontent.com/jefftwebb/data/main/toy_sales_data.csv\"\n",
    "df_o = pd.read_csv(toys_git, index_col=False)\n",
    "\n",
    "# Potential Toy Sales\n",
    "toy_sales = \"https://raw.githubusercontent.com/jefftwebb/data/main/toy_sales_PO.csv\"\n",
    "df_p = pd.read_csv(toy_sales, index_col=False)"
   ],
   "id": "ff14ffee7d8a5900",
   "outputs": [],
   "execution_count": 92
  },
  {
   "metadata": {},
   "cell_type": "markdown",
   "source": "## Inspect the data for both data frames",
   "id": "b9423d023ad5c04"
  },
  {
   "metadata": {
    "ExecuteTime": {
     "end_time": "2024-08-26T05:55:05.611621Z",
     "start_time": "2024-08-26T05:55:05.606382Z"
    }
   },
   "cell_type": "code",
   "source": [
    "print('Observed')\n",
    "df_o.head(10)\n",
    "\n",
    "# This is the actual observed data with the different stores and their output of weekly sold"
   ],
   "id": "8d9fc586b6a3e65",
   "outputs": [
    {
     "name": "stdout",
     "output_type": "stream",
     "text": [
      "Observed\n"
     ]
    },
    {
     "data": {
      "text/plain": [
       "   store  weeks_to_xmas  avg_week_sales  is_on_sale  weekly_amount_sold\n",
       "0      1              3           12.98           1              212.08\n",
       "1      1              2           12.98           1              186.12\n",
       "2      1              1           12.98           1              160.16\n",
       "3      1              0           12.98           0               84.20\n",
       "4      2              3           19.92           0               98.85\n",
       "5      2              2           19.92           0               59.01\n",
       "6      2              1           19.92           0               19.17\n",
       "7      2              0           19.92           0                0.00\n",
       "8      3              3           18.54           0               93.37\n",
       "9      3              2           18.54           0               56.29"
      ],
      "text/html": [
       "<div>\n",
       "<style scoped>\n",
       "    .dataframe tbody tr th:only-of-type {\n",
       "        vertical-align: middle;\n",
       "    }\n",
       "\n",
       "    .dataframe tbody tr th {\n",
       "        vertical-align: top;\n",
       "    }\n",
       "\n",
       "    .dataframe thead th {\n",
       "        text-align: right;\n",
       "    }\n",
       "</style>\n",
       "<table border=\"1\" class=\"dataframe\">\n",
       "  <thead>\n",
       "    <tr style=\"text-align: right;\">\n",
       "      <th></th>\n",
       "      <th>store</th>\n",
       "      <th>weeks_to_xmas</th>\n",
       "      <th>avg_week_sales</th>\n",
       "      <th>is_on_sale</th>\n",
       "      <th>weekly_amount_sold</th>\n",
       "    </tr>\n",
       "  </thead>\n",
       "  <tbody>\n",
       "    <tr>\n",
       "      <th>0</th>\n",
       "      <td>1</td>\n",
       "      <td>3</td>\n",
       "      <td>12.98</td>\n",
       "      <td>1</td>\n",
       "      <td>212.08</td>\n",
       "    </tr>\n",
       "    <tr>\n",
       "      <th>1</th>\n",
       "      <td>1</td>\n",
       "      <td>2</td>\n",
       "      <td>12.98</td>\n",
       "      <td>1</td>\n",
       "      <td>186.12</td>\n",
       "    </tr>\n",
       "    <tr>\n",
       "      <th>2</th>\n",
       "      <td>1</td>\n",
       "      <td>1</td>\n",
       "      <td>12.98</td>\n",
       "      <td>1</td>\n",
       "      <td>160.16</td>\n",
       "    </tr>\n",
       "    <tr>\n",
       "      <th>3</th>\n",
       "      <td>1</td>\n",
       "      <td>0</td>\n",
       "      <td>12.98</td>\n",
       "      <td>0</td>\n",
       "      <td>84.20</td>\n",
       "    </tr>\n",
       "    <tr>\n",
       "      <th>4</th>\n",
       "      <td>2</td>\n",
       "      <td>3</td>\n",
       "      <td>19.92</td>\n",
       "      <td>0</td>\n",
       "      <td>98.85</td>\n",
       "    </tr>\n",
       "    <tr>\n",
       "      <th>5</th>\n",
       "      <td>2</td>\n",
       "      <td>2</td>\n",
       "      <td>19.92</td>\n",
       "      <td>0</td>\n",
       "      <td>59.01</td>\n",
       "    </tr>\n",
       "    <tr>\n",
       "      <th>6</th>\n",
       "      <td>2</td>\n",
       "      <td>1</td>\n",
       "      <td>19.92</td>\n",
       "      <td>0</td>\n",
       "      <td>19.17</td>\n",
       "    </tr>\n",
       "    <tr>\n",
       "      <th>7</th>\n",
       "      <td>2</td>\n",
       "      <td>0</td>\n",
       "      <td>19.92</td>\n",
       "      <td>0</td>\n",
       "      <td>0.00</td>\n",
       "    </tr>\n",
       "    <tr>\n",
       "      <th>8</th>\n",
       "      <td>3</td>\n",
       "      <td>3</td>\n",
       "      <td>18.54</td>\n",
       "      <td>0</td>\n",
       "      <td>93.37</td>\n",
       "    </tr>\n",
       "    <tr>\n",
       "      <th>9</th>\n",
       "      <td>3</td>\n",
       "      <td>2</td>\n",
       "      <td>18.54</td>\n",
       "      <td>0</td>\n",
       "      <td>56.29</td>\n",
       "    </tr>\n",
       "  </tbody>\n",
       "</table>\n",
       "</div>"
      ]
     },
     "execution_count": 93,
     "metadata": {},
     "output_type": "execute_result"
    }
   ],
   "execution_count": 93
  },
  {
   "metadata": {
    "ExecuteTime": {
     "end_time": "2024-08-26T05:55:05.619594Z",
     "start_time": "2024-08-26T05:55:05.611621Z"
    }
   },
   "cell_type": "code",
   "source": [
    "# Insect Potential\n",
    "print('Potential')\n",
    "df_p.head(10)\n",
    "\n",
    "# This is the potential output if we had the opportunity to see the impact of sale or no sale at the same time"
   ],
   "id": "9b00e92c03b8da3e",
   "outputs": [
    {
     "name": "stdout",
     "output_type": "stream",
     "text": [
      "Potential\n"
     ]
    },
    {
     "data": {
      "text/plain": [
       "   store  weeks_to_xmas  avg_week_sales  is_on_sale      y0      y1  \\\n",
       "0      1              3           12.98           1  162.08  212.08   \n",
       "1      1              2           12.98           1  136.12  186.12   \n",
       "2      1              1           12.98           1  110.16  160.16   \n",
       "3      1              0           12.98           0   84.20  134.20   \n",
       "4      2              3           19.92           0   98.85  148.85   \n",
       "5      2              2           19.92           0   59.01  109.01   \n",
       "6      2              1           19.92           0   19.17   69.17   \n",
       "7      2              0           19.92           0    0.00   29.33   \n",
       "8      3              3           18.54           0   93.37  143.37   \n",
       "9      3              2           18.54           0   56.29  106.29   \n",
       "\n",
       "   weekly_amount_sold  \n",
       "0              212.08  \n",
       "1              186.12  \n",
       "2              160.16  \n",
       "3               84.20  \n",
       "4               98.85  \n",
       "5               59.01  \n",
       "6               19.17  \n",
       "7                0.00  \n",
       "8               93.37  \n",
       "9               56.29  "
      ],
      "text/html": [
       "<div>\n",
       "<style scoped>\n",
       "    .dataframe tbody tr th:only-of-type {\n",
       "        vertical-align: middle;\n",
       "    }\n",
       "\n",
       "    .dataframe tbody tr th {\n",
       "        vertical-align: top;\n",
       "    }\n",
       "\n",
       "    .dataframe thead th {\n",
       "        text-align: right;\n",
       "    }\n",
       "</style>\n",
       "<table border=\"1\" class=\"dataframe\">\n",
       "  <thead>\n",
       "    <tr style=\"text-align: right;\">\n",
       "      <th></th>\n",
       "      <th>store</th>\n",
       "      <th>weeks_to_xmas</th>\n",
       "      <th>avg_week_sales</th>\n",
       "      <th>is_on_sale</th>\n",
       "      <th>y0</th>\n",
       "      <th>y1</th>\n",
       "      <th>weekly_amount_sold</th>\n",
       "    </tr>\n",
       "  </thead>\n",
       "  <tbody>\n",
       "    <tr>\n",
       "      <th>0</th>\n",
       "      <td>1</td>\n",
       "      <td>3</td>\n",
       "      <td>12.98</td>\n",
       "      <td>1</td>\n",
       "      <td>162.08</td>\n",
       "      <td>212.08</td>\n",
       "      <td>212.08</td>\n",
       "    </tr>\n",
       "    <tr>\n",
       "      <th>1</th>\n",
       "      <td>1</td>\n",
       "      <td>2</td>\n",
       "      <td>12.98</td>\n",
       "      <td>1</td>\n",
       "      <td>136.12</td>\n",
       "      <td>186.12</td>\n",
       "      <td>186.12</td>\n",
       "    </tr>\n",
       "    <tr>\n",
       "      <th>2</th>\n",
       "      <td>1</td>\n",
       "      <td>1</td>\n",
       "      <td>12.98</td>\n",
       "      <td>1</td>\n",
       "      <td>110.16</td>\n",
       "      <td>160.16</td>\n",
       "      <td>160.16</td>\n",
       "    </tr>\n",
       "    <tr>\n",
       "      <th>3</th>\n",
       "      <td>1</td>\n",
       "      <td>0</td>\n",
       "      <td>12.98</td>\n",
       "      <td>0</td>\n",
       "      <td>84.20</td>\n",
       "      <td>134.20</td>\n",
       "      <td>84.20</td>\n",
       "    </tr>\n",
       "    <tr>\n",
       "      <th>4</th>\n",
       "      <td>2</td>\n",
       "      <td>3</td>\n",
       "      <td>19.92</td>\n",
       "      <td>0</td>\n",
       "      <td>98.85</td>\n",
       "      <td>148.85</td>\n",
       "      <td>98.85</td>\n",
       "    </tr>\n",
       "    <tr>\n",
       "      <th>5</th>\n",
       "      <td>2</td>\n",
       "      <td>2</td>\n",
       "      <td>19.92</td>\n",
       "      <td>0</td>\n",
       "      <td>59.01</td>\n",
       "      <td>109.01</td>\n",
       "      <td>59.01</td>\n",
       "    </tr>\n",
       "    <tr>\n",
       "      <th>6</th>\n",
       "      <td>2</td>\n",
       "      <td>1</td>\n",
       "      <td>19.92</td>\n",
       "      <td>0</td>\n",
       "      <td>19.17</td>\n",
       "      <td>69.17</td>\n",
       "      <td>19.17</td>\n",
       "    </tr>\n",
       "    <tr>\n",
       "      <th>7</th>\n",
       "      <td>2</td>\n",
       "      <td>0</td>\n",
       "      <td>19.92</td>\n",
       "      <td>0</td>\n",
       "      <td>0.00</td>\n",
       "      <td>29.33</td>\n",
       "      <td>0.00</td>\n",
       "    </tr>\n",
       "    <tr>\n",
       "      <th>8</th>\n",
       "      <td>3</td>\n",
       "      <td>3</td>\n",
       "      <td>18.54</td>\n",
       "      <td>0</td>\n",
       "      <td>93.37</td>\n",
       "      <td>143.37</td>\n",
       "      <td>93.37</td>\n",
       "    </tr>\n",
       "    <tr>\n",
       "      <th>9</th>\n",
       "      <td>3</td>\n",
       "      <td>2</td>\n",
       "      <td>18.54</td>\n",
       "      <td>0</td>\n",
       "      <td>56.29</td>\n",
       "      <td>106.29</td>\n",
       "      <td>56.29</td>\n",
       "    </tr>\n",
       "  </tbody>\n",
       "</table>\n",
       "</div>"
      ]
     },
     "execution_count": 94,
     "metadata": {},
     "output_type": "execute_result"
    }
   ],
   "execution_count": 94
  },
  {
   "metadata": {},
   "cell_type": "markdown",
   "source": [
    "## Question 1\n",
    "* What is the true ATE of having a sale? This is a calculation (not an estimate) that uses the potential outcomes data, toy_sales_PO.csv, and is defined as: "
   ],
   "id": "9efce077b27c1e2e"
  },
  {
   "metadata": {
    "ExecuteTime": {
     "end_time": "2024-08-26T05:55:05.623882Z",
     "start_time": "2024-08-26T05:55:05.620605Z"
    }
   },
   "cell_type": "code",
   "source": [
    "# Using the Potentials, lets calculate ATE\n",
    "# Sale - No sale\n",
    "df_p['ATE'] = (df_p['y1'] - df_p['y0'])\n",
    "\n",
    "# Get the sum of column ATE and get the average\n",
    "result = (df_p['ATE'].sum())/len(df_p['ATE'])\n",
    "print('Potential ATE')\n",
    "print(result)\n",
    "\n",
    "# 45+ means the Treatment of sale is positive!"
   ],
   "id": "ebabcefc51305777",
   "outputs": [
    {
     "name": "stdout",
     "output_type": "stream",
     "text": [
      "Potential ATE\n",
      "45.90093\n"
     ]
    }
   ],
   "execution_count": 95
  },
  {
   "metadata": {},
   "cell_type": "markdown",
   "source": [
    "## Answer 1:\n",
    "* 45 units increase when a Sale is used"
   ],
   "id": "8c3e4912385b0b9b"
  },
  {
   "metadata": {},
   "cell_type": "markdown",
   "source": [
    "## Question 2\n",
    "* What is the estimated ATE of having a sale using the observed data, toy_sales.csv? The estimate consists in the difference between the two group averages:"
   ],
   "id": "8ff740137c96e0b9"
  },
  {
   "metadata": {
    "ExecuteTime": {
     "end_time": "2024-08-26T05:55:05.637538Z",
     "start_time": "2024-08-26T05:55:05.623882Z"
    }
   },
   "cell_type": "code",
   "source": [
    "# Create new columns for the exclusive 1 and 0\n",
    "df_o['Sale'] = df_o.loc[df_o['is_on_sale'] == 1, 'weekly_amount_sold']\n",
    "df_o['No Sale'] = df_o.loc[df_o['is_on_sale'] == 0, 'weekly_amount_sold']\n",
    "# print(df_o.columns)\n",
    "observed_effect = ((df_o['Sale'].mean()) - (df_o['No Sale'].mean()))\n",
    "print('Observed ATE')\n",
    "print(observed_effect)\n"
   ],
   "id": "7f5b9fca163633f1",
   "outputs": [
    {
     "name": "stdout",
     "output_type": "stream",
     "text": [
      "Observed ATE\n",
      "77.94207879738728\n"
     ]
    }
   ],
   "execution_count": 96
  },
  {
   "metadata": {},
   "cell_type": "markdown",
   "source": [
    "## Answer 2:\n",
    "* 77.9 Units increase when a sale occurs in the observed data"
   ],
   "id": "56635d9b34a1a4df"
  },
  {
   "metadata": {},
   "cell_type": "markdown",
   "source": [
    "## Question 3\n",
    "* What is the bias involved in using the observed data to estimate ATE?"
   ],
   "id": "8961528f7db12609"
  },
  {
   "metadata": {},
   "cell_type": "markdown",
   "source": [
    "## Answer 3\n",
    "* As discussed in class with the twins topic. There needs to be randomization in the study as the store that runs sales more or less often would have impacts based on their history. There needs to be more data from previous years. Store size, location, unit price and marketing can all impact the results of the observed results. We only have access to Sale/No Sale."
   ],
   "id": "20adb5da38f3b2c1"
  },
  {
   "metadata": {},
   "cell_type": "markdown",
   "source": [
    "## Question 4\n",
    "* A balance table is used to check whether the treatment and control groups in a study are exchangeable based on pre-treatment characteristics. Create a balance table using the observed data (toy_sales.csv) that shows how company size varies by treatment status. Comment on the exchangeability of the groups."
   ],
   "id": "107e7920e105c2b7"
  },
  {
   "metadata": {
    "ExecuteTime": {
     "end_time": "2024-08-26T05:55:05.645157Z",
     "start_time": "2024-08-26T05:55:05.637538Z"
    }
   },
   "cell_type": "code",
   "source": [
    "df_balance = df_o.groupby('is_on_sale')['avg_week_sales'].agg(['mean', 'std', 'count']).reset_index()\n",
    "df_balance.columns = ['is_on_sale', 'Avg_Week_Sales', 'Std_Avg_Week_Sales', 'Count']\n",
    "total_count = df_balance['Count'].sum()\n",
    "print(\"Total Sales Occurrences\")\n",
    "print(total_count)\n",
    "print(\"% No Sales Occurrences\")\n",
    "no_sale_count = (df_balance.loc[df_balance['is_on_sale'] == 0, 'Count'].values[0])/total_count\n",
    "print(no_sale_count)\n",
    "print(\"% Sales Occurrences\")\n",
    "sale_count = (df_balance.loc[df_balance['is_on_sale'] == 1, 'Count'].values[0])/total_count\n",
    "print(sale_count)\n",
    "\n",
    "# (21.58-18.77)/18.77 = 14% more sales than no sales\n",
    "# Despite, Sales (1) having 3% more in terms of total occurrences, they had 14% more in avg weekly sales\n",
    "\n",
    "df_balance.head()\n"
   ],
   "id": "e94ec58aa7c61b51",
   "outputs": [
    {
     "name": "stdout",
     "output_type": "stream",
     "text": [
      "Total Sales Occurrences\n",
      "2000\n",
      "% No Sales Occurrences\n",
      "0.488\n",
      "% Sales Occurrences\n",
      "0.512\n"
     ]
    },
    {
     "data": {
      "text/plain": [
       "   is_on_sale  Avg_Week_Sales  Std_Avg_Week_Sales  Count\n",
       "0           0       18.777121            3.716006    976\n",
       "1           1       21.584229            4.991820   1024"
      ],
      "text/html": [
       "<div>\n",
       "<style scoped>\n",
       "    .dataframe tbody tr th:only-of-type {\n",
       "        vertical-align: middle;\n",
       "    }\n",
       "\n",
       "    .dataframe tbody tr th {\n",
       "        vertical-align: top;\n",
       "    }\n",
       "\n",
       "    .dataframe thead th {\n",
       "        text-align: right;\n",
       "    }\n",
       "</style>\n",
       "<table border=\"1\" class=\"dataframe\">\n",
       "  <thead>\n",
       "    <tr style=\"text-align: right;\">\n",
       "      <th></th>\n",
       "      <th>is_on_sale</th>\n",
       "      <th>Avg_Week_Sales</th>\n",
       "      <th>Std_Avg_Week_Sales</th>\n",
       "      <th>Count</th>\n",
       "    </tr>\n",
       "  </thead>\n",
       "  <tbody>\n",
       "    <tr>\n",
       "      <th>0</th>\n",
       "      <td>0</td>\n",
       "      <td>18.777121</td>\n",
       "      <td>3.716006</td>\n",
       "      <td>976</td>\n",
       "    </tr>\n",
       "    <tr>\n",
       "      <th>1</th>\n",
       "      <td>1</td>\n",
       "      <td>21.584229</td>\n",
       "      <td>4.991820</td>\n",
       "      <td>1024</td>\n",
       "    </tr>\n",
       "  </tbody>\n",
       "</table>\n",
       "</div>"
      ]
     },
     "execution_count": 97,
     "metadata": {},
     "output_type": "execute_result"
    }
   ],
   "execution_count": 97
  },
  {
   "metadata": {},
   "cell_type": "markdown",
   "source": [
    "## Answer 4\n",
    "* They are not exchangable based on the avg sales and std. The standard deviation shows the most concern as a std of 4.99 indicates more variation."
   ],
   "id": "496393d4c2278243"
  },
  {
   "metadata": {},
   "cell_type": "markdown",
   "source": [
    "## Question 5\n",
    "* Company size confounds the relationship between weekly_amount_sold and is_on_sale in the observed data (toy_sales.csv). Create a statistical model to adjust for the confounding. Hint: use linear regression. Report an adjusted ATE. How does it compare to the true ATE? Explain how the adjustment is working."
   ],
   "id": "2bf32b7372a071a5"
  },
  {
   "metadata": {
    "ExecuteTime": {
     "end_time": "2024-08-26T05:55:05.650430Z",
     "start_time": "2024-08-26T05:55:05.645157Z"
    }
   },
   "cell_type": "code",
   "source": [
    "# Get scikit packages\n",
    "from sklearn.linear_model import LinearRegression\n",
    "from sklearn.preprocessing import StandardScaler\n",
    "\n",
    "# Get your independent and dependent variables. If sale, what happens\n",
    "X = df_o[['is_on_sale', 'avg_week_sales']]\n",
    "y = df_o['weekly_amount_sold']\n",
    "\n",
    "model = LinearRegression()\n",
    "model.fit(X, y)\n",
    "\n",
    "adjusted_ATE = model.coef_[0] # pull the first value from the attribute\n",
    "print(f\"Adjusted ATE of having a sale)\")\n",
    "print(adjusted_ATE)\n",
    "\n",
    "# Pull scikit attributes for slope and intercept\n",
    "print(f\"Intercept\")\n",
    "print(model.intercept_)\n",
    "print(f\"Coefficients:\")\n",
    "print(model.coef_)\n"
   ],
   "id": "2fdc2976d0d86199",
   "outputs": [
    {
     "name": "stdout",
     "output_type": "stream",
     "text": [
      "Adjusted ATE of having a sale)\n",
      "68.98671031000106\n",
      "Intercept\n",
      "2.897194701296044\n",
      "Coefficients:\n",
      "[68.98671031  3.19024766]\n"
     ]
    }
   ],
   "execution_count": 98
  },
  {
   "metadata": {},
   "cell_type": "markdown",
   "source": [
    "## Answer 5\n",
    "* 68.99: For each unit increase in is_on_sale (0 or 1), weekly_amount_sold is expected to increase by approximately 68.99 units\n",
    "\n",
    "* 3.19: For each unit increase in avg_week_sales, weekly_amount_sold is expected to increase by approximately 3.19 units"
   ],
   "id": "d6546881cfbb2725"
  },
  {
   "metadata": {},
   "cell_type": "markdown",
   "source": [
    "## Question 6\n",
    "* The conditional average treatment effect or CATE is defined as the average treatment effect for a subgroup of the data. Think of weeks_to_xmas as defining subgroups with levels equal to 3, 2, 1, 0. What is the true ATE of a sales campaign conditional on weeks to Christmas?\n",
    "\n",
    "* Use toy_sales_PO.csv for the calculation.\n",
    "* You should report 4 numbers and make a comment."
   ],
   "id": "1f6e51632491d5e"
  },
  {
   "metadata": {
    "ExecuteTime": {
     "end_time": "2024-08-26T05:55:05.655434Z",
     "start_time": "2024-08-26T05:55:05.650430Z"
    }
   },
   "cell_type": "code",
   "source": [
    "# Pull the levels Weeks to xmas from the Potentials dataset\n",
    "print(df_p['weeks_to_xmas'].unique())\n",
    "\n",
    "df_p['ATE'] = df_p['y1'] - df_p['y0']\n",
    "# CATE, for each level. So it is just easier to do .mean()\n",
    "cate = df_p.groupby('weeks_to_xmas')['ATE'].mean()\n",
    "\n",
    "actual = []\n",
    "for week, metric in cate.items():\n",
    "    print(fr\"Weeks to Christmas: {week}, actual ATE: {round(metric,2)}\")\n",
    "    actual.append(round(metric,2))"
   ],
   "id": "4241934e9d7156dc",
   "outputs": [
    {
     "name": "stdout",
     "output_type": "stream",
     "text": [
      "[3 2 1 0]\n",
      "Weeks to Christmas: 0, actual ATE: 38.75\n",
      "Weeks to Christmas: 1, actual ATE: 46.14\n",
      "Weeks to Christmas: 2, actual ATE: 48.94\n",
      "Weeks to Christmas: 3, actual ATE: 49.78\n"
     ]
    }
   ],
   "execution_count": 99
  },
  {
   "metadata": {},
   "cell_type": "markdown",
   "source": [
    "## Question 7\n",
    "* Use a statistical model to estimate the adjusted ATE of a sales campaign conditional on weeks to Christmas. Hint: add an interaction term to your earlier regression model.\n",
    "\n",
    "* Challenge: create a plot that illustrates the statistical result."
   ],
   "id": "8984cdcbf0ec5247"
  },
  {
   "metadata": {
    "ExecuteTime": {
     "end_time": "2024-08-26T05:55:05.662393Z",
     "start_time": "2024-08-26T05:55:05.655434Z"
    }
   },
   "cell_type": "code",
   "source": [
    "# The interaction term is going to be the weeks out from xmas and the sale/no sale\n",
    "\n",
    "df_o['interaction'] = df_o['is_on_sale'] * df_o['weeks_to_xmas']\n",
    "\n",
    "X = df_o[['is_on_sale', 'weeks_to_xmas', 'interaction']]\n",
    "y = df_o['weekly_amount_sold']\n",
    "model = LinearRegression()\n",
    "model.fit(X, y)\n",
    "\n",
    "adjusted_cate = {}\n",
    "for week in sorted(df_o['weeks_to_xmas'].unique()): # I got to the end and figured out that I was doing the inverse of question 6 where it was starting from week 3 and not 0.\n",
    "    # Sale\n",
    "    X_sale = np.array([[1, week, week]])\n",
    "    y_sale = model.predict(X_sale)[0]\n",
    "    # No sale\n",
    "    X_no_sale = np.array([[0, week, 0]])\n",
    "    y_no_sale = model.predict(X_no_sale)[0]\n",
    "    # No mean since it is specifc to each week\n",
    "    adjusted_cate[week] = y_sale - y_no_sale\n",
    "\n",
    "# Adjusted cate results and the difference to actual\n",
    "\n",
    "x=0 # starting at week 0 \n",
    "for week, cate in adjusted_cate.items():\n",
    "    print(f\"Weeks to Christmas: {week}, Adjusted ATE: {round(cate,2)}, difference from adjusted to actual: {round(cate - actual[x],2)}\")\n",
    "    x += 1"
   ],
   "id": "ee7bbea2802f6af2",
   "outputs": [
    {
     "name": "stdout",
     "output_type": "stream",
     "text": [
      "Weeks to Christmas: 0, Adjusted ATE: 52.75, difference from adjusted to actual: 14.0\n",
      "Weeks to Christmas: 1, Adjusted ATE: 59.69, difference from adjusted to actual: 13.55\n",
      "Weeks to Christmas: 2, Adjusted ATE: 66.63, difference from adjusted to actual: 17.69\n",
      "Weeks to Christmas: 3, Adjusted ATE: 73.57, difference from adjusted to actual: 23.79\n"
     ]
    },
    {
     "name": "stderr",
     "output_type": "stream",
     "text": [
      "C:\\Users\\kyle.anderson\\pythonProject\\MKTG6600\\MKTG6600\\.venv\\Lib\\site-packages\\sklearn\\base.py:493: UserWarning: X does not have valid feature names, but LinearRegression was fitted with feature names\n",
      "  warnings.warn(\n",
      "C:\\Users\\kyle.anderson\\pythonProject\\MKTG6600\\MKTG6600\\.venv\\Lib\\site-packages\\sklearn\\base.py:493: UserWarning: X does not have valid feature names, but LinearRegression was fitted with feature names\n",
      "  warnings.warn(\n",
      "C:\\Users\\kyle.anderson\\pythonProject\\MKTG6600\\MKTG6600\\.venv\\Lib\\site-packages\\sklearn\\base.py:493: UserWarning: X does not have valid feature names, but LinearRegression was fitted with feature names\n",
      "  warnings.warn(\n",
      "C:\\Users\\kyle.anderson\\pythonProject\\MKTG6600\\MKTG6600\\.venv\\Lib\\site-packages\\sklearn\\base.py:493: UserWarning: X does not have valid feature names, but LinearRegression was fitted with feature names\n",
      "  warnings.warn(\n",
      "C:\\Users\\kyle.anderson\\pythonProject\\MKTG6600\\MKTG6600\\.venv\\Lib\\site-packages\\sklearn\\base.py:493: UserWarning: X does not have valid feature names, but LinearRegression was fitted with feature names\n",
      "  warnings.warn(\n",
      "C:\\Users\\kyle.anderson\\pythonProject\\MKTG6600\\MKTG6600\\.venv\\Lib\\site-packages\\sklearn\\base.py:493: UserWarning: X does not have valid feature names, but LinearRegression was fitted with feature names\n",
      "  warnings.warn(\n",
      "C:\\Users\\kyle.anderson\\pythonProject\\MKTG6600\\MKTG6600\\.venv\\Lib\\site-packages\\sklearn\\base.py:493: UserWarning: X does not have valid feature names, but LinearRegression was fitted with feature names\n",
      "  warnings.warn(\n",
      "C:\\Users\\kyle.anderson\\pythonProject\\MKTG6600\\MKTG6600\\.venv\\Lib\\site-packages\\sklearn\\base.py:493: UserWarning: X does not have valid feature names, but LinearRegression was fitted with feature names\n",
      "  warnings.warn(\n"
     ]
    }
   ],
   "execution_count": 100
  },
  {
   "metadata": {},
   "cell_type": "markdown",
   "source": [
    "## Answer 7\n",
    "* The Adjusted CATE is higher because we are overestimating the impacts of weeks out from Christmas and sales. My assumption is that the model believes there is a strong causation to weeks out and increase in sales, which is why it is blown out of proportion.\n",
    "* I think we could use other features to help with the model, because we don't have the specifics of the store and we are getting confounding. There are so many reasons that Christmas would influence purchases and customer behavior. The purchasing based on weeks out on Christmas doesn't make a huge difference because people are already buying. Maybe the toy store is the only one for hundreds of miles and any sale around Christmas would be thrown out of proportion."
   ],
   "id": "a8467bb10034157e"
  },
  {
   "metadata": {
    "ExecuteTime": {
     "end_time": "2024-08-26T05:55:05.665335Z",
     "start_time": "2024-08-26T05:55:05.663407Z"
    }
   },
   "cell_type": "code",
   "source": "",
   "id": "89266a6e07551e49",
   "outputs": [],
   "execution_count": 100
  }
 ],
 "metadata": {
  "kernelspec": {
   "display_name": "Python 3",
   "language": "python",
   "name": "python3"
  },
  "language_info": {
   "codemirror_mode": {
    "name": "ipython",
    "version": 2
   },
   "file_extension": ".py",
   "mimetype": "text/x-python",
   "name": "python",
   "nbconvert_exporter": "python",
   "pygments_lexer": "ipython2",
   "version": "2.7.6"
  }
 },
 "nbformat": 4,
 "nbformat_minor": 5
}
